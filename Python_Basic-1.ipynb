{
 "cells": [
  {
   "cell_type": "code",
   "execution_count": null,
   "metadata": {},
   "outputs": [],
   "source": [
    "#                   PRACTICAL QUESTIONS PYTHON BASICS - 1"
   ]
  },
  {
   "cell_type": "code",
   "execution_count": 4,
   "metadata": {},
   "outputs": [
    {
     "name": "stdout",
     "output_type": "stream",
     "text": [
      "Hello World\n"
     ]
    }
   ],
   "source": [
    "# Ques.1 -> Write a Python program to print \"Hello, World!\"\n",
    "print(\"Hello World\")"
   ]
  },
  {
   "cell_type": "code",
   "execution_count": 5,
   "metadata": {},
   "outputs": [
    {
     "name": "stdout",
     "output_type": "stream",
     "text": [
      "Your Name is : Abhishek\n",
      "Your Age is : 19 Years\n"
     ]
    }
   ],
   "source": [
    "#Ques.2  -> Write a Python program that displays your name and age.\n",
    "Name = input(\"Enter Your Name: \")\n",
    "Age = input(\"Enter Your Age : \")\n",
    "print(f\"Your Name is : {Name}\")\n",
    "print(f\"Your Age is : {Age} Years\")"
   ]
  },
  {
   "cell_type": "code",
   "execution_count": 7,
   "metadata": {},
   "outputs": [
    {
     "name": "stdout",
     "output_type": "stream",
     "text": [
      "All the pre-defined keyword of python -> ['False', 'None', 'True', 'and', 'as', 'assert', 'async', 'await', 'break', 'class', 'continue', 'def', 'del', 'elif', 'else', 'except', 'finally', 'for', 'from', 'global', 'if', 'import', 'in', 'is', 'lambda', 'nonlocal', 'not', 'or', 'pass', 'raise', 'return', 'try', 'while', 'with', 'yield']\n"
     ]
    }
   ],
   "source": [
    "#Ques.3 -> Write code to print all the pre-defined keywords in Python using the keyword library.\n",
    "import keyword\n",
    "print(\"All the pre-defined keyword of python -> \",end=\"\")\n",
    "print(keyword.kwlist)"
   ]
  },
  {
   "cell_type": "code",
   "execution_count": 12,
   "metadata": {},
   "outputs": [
    {
     "name": "stdout",
     "output_type": "stream",
     "text": [
      "Keyword Detected..\n"
     ]
    }
   ],
   "source": [
    "#Ques.4 -> Write a program that checks if a given word is a Python keyword.\n",
    "import keyword\n",
    "word = input(\"Enter a word you want to check for keyword -> \")\n",
    "if(word in keyword.kwlist):\n",
    "    print(\"Keyword Detected..\")\n",
    "else:\n",
    "    print(\"Not a Keyword..\")"
   ]
  },
  {
   "cell_type": "code",
   "execution_count": 1,
   "metadata": {},
   "outputs": [
    {
     "name": "stdout",
     "output_type": "stream",
     "text": [
      "Your updated List is  [1, 0, 3, 4, 5]\n",
      "\n"
     ]
    },
    {
     "ename": "TypeError",
     "evalue": "'tuple' object does not support item assignment",
     "output_type": "error",
     "traceback": [
      "\u001b[0;31m---------------------------------------------------------------------------\u001b[0m",
      "\u001b[0;31mTypeError\u001b[0m                                 Traceback (most recent call last)",
      "Cell \u001b[0;32mIn[1], line 8\u001b[0m\n\u001b[1;32m      6\u001b[0m \u001b[38;5;28mprint\u001b[39m(\u001b[38;5;124m\"\u001b[39m\u001b[38;5;124mYour updated List is \u001b[39m\u001b[38;5;124m\"\u001b[39m,li)\n\u001b[1;32m      7\u001b[0m \u001b[38;5;28mprint\u001b[39m()\n\u001b[0;32m----> 8\u001b[0m \u001b[43mtup\u001b[49m\u001b[43m[\u001b[49m\u001b[38;5;241;43m1\u001b[39;49m\u001b[43m]\u001b[49m\u001b[38;5;241m=\u001b[39m\u001b[38;5;124m\"\u001b[39m\u001b[38;5;124mHello\u001b[39m\u001b[38;5;124m\"\u001b[39m\n\u001b[1;32m      9\u001b[0m \u001b[38;5;28mprint\u001b[39m(\u001b[38;5;124m\"\u001b[39m\u001b[38;5;124mYour updated List is \u001b[39m\u001b[38;5;124m\"\u001b[39m,tup)\n",
      "\u001b[0;31mTypeError\u001b[0m: 'tuple' object does not support item assignment"
     ]
    }
   ],
   "source": [
    "#Ques.5 -> Create a list and tuple in Python, and demonstrate how attempting to change an element works differently for each. \n",
    "li =[1,2,3,4,5]\n",
    "tup = (1,2,\"Ok\",\"By\")\n",
    "li[1]=0\n",
    "\n",
    "print(\"Your updated List is \",li)\n",
    "print()\n",
    "tup[1]=\"Hello\"\n",
    "print(\"Your updated List is \",tup)\n"
   ]
  },
  {
   "cell_type": "code",
   "execution_count": 2,
   "metadata": {},
   "outputs": [
    {
     "name": "stdout",
     "output_type": "stream",
     "text": [
      "Before function call : \n",
      "Immutable: 8\n",
      "Mutable: [1, 2, 3, 4]\n",
      "\n",
      "Inside Function.\n",
      "Immutable :  9\n",
      "Mutable :  [1, 2, 3, 4, 5]\n",
      "\n",
      "After function call : \n",
      "Immutable: 8\n",
      "Mutable: [1, 2, 3, 4, 5]\n"
     ]
    }
   ],
   "source": [
    "#Ques.6 -> Write a function to demonstrate the behavior of mutable and immutable arguments\n",
    "def modify_data(immutable,mutable):\n",
    "    immutable+=1\n",
    "    mutable.append(5)\n",
    "    print(\"Inside Function.\")\n",
    "    print(\"Immutable : \",immutable)\n",
    "    print(\"Mutable : \",mutable)\n",
    "    print()\n",
    "\n",
    "immutable_data = 8\n",
    "mutable_data=[1,2,3,4]\n",
    "\n",
    "print(\"Before function call : \")\n",
    "print(\"Immutable:\", immutable_data)\n",
    "print(\"Mutable:\", mutable_data)\n",
    "print()\n",
    "\n",
    "modify_data(immutable_data, mutable_data)\n",
    "\n",
    "print(\"After function call : \")\n",
    "print(\"Immutable:\", immutable_data)\n",
    "print(\"Mutable:\", mutable_data)\n"
   ]
  },
  {
   "cell_type": "code",
   "execution_count": 24,
   "metadata": {},
   "outputs": [
    {
     "name": "stdout",
     "output_type": "stream",
     "text": [
      "10 * 5 = 50\n"
     ]
    }
   ],
   "source": [
    "#Ques.7 -> Write a program that performs basic arithmetic operations on two user-input numbers.\n",
    "Num1 = int(input(\"Enter 1st Numner \"))\n",
    "Num2 = int(input(\"Enter 2nd Number \"))\n",
    "Operator = input(\"Enter the operation You Want to perform \")\n",
    "if Operator == \"+\":\n",
    "    Result = Num1 + Num2\n",
    "    print(f\"{Num1} + {Num2} = {Result}\")\n",
    "elif Operator == \"-\":\n",
    "    Result = Num1 - Num2\n",
    "    print(f\"{Num1} - {Num2} = {Result}\")\n",
    "elif Operator == \"*\":\n",
    "    Result = Num1 * Num2\n",
    "    print(f\"{Num1} * {Num2} = {Result}\")\n",
    "elif Operator == \"/\":\n",
    "    Result = Num1 / Num2\n",
    "    print(f\"{Num1} / {Num2} = {Result}\")\n",
    "elif Operator == \"%\":\n",
    "    Result = Num1 % Num2\n",
    "    print(f\"{Num1} % {Num2} = {Result}\")\n",
    "\n",
    "    "
   ]
  },
  {
   "cell_type": "code",
   "execution_count": 30,
   "metadata": {},
   "outputs": [
    {
     "name": "stdout",
     "output_type": "stream",
     "text": [
      "a is Greater..->Used and operator\n",
      "b is Greater..->Used or operator\n",
      "..->Used Not Operator\n"
     ]
    }
   ],
   "source": [
    "#Ques.8 -> Write a program to demonstrate the use of logical operators.\n",
    "a = 50\n",
    "b = 45\n",
    "c = 40\n",
    "if a>b and a>c :\n",
    "    print(\"a is Greater..->Used and operator\")\n",
    "if b>c or b>a :\n",
    "    print(\"b is Greater..->Used or operator\")\n",
    "if a!=b:\n",
    "    print(\"..->Used Not Operator\")\n"
   ]
  },
  {
   "cell_type": "code",
   "execution_count": 11,
   "metadata": {},
   "outputs": [
    {
     "name": "stdout",
     "output_type": "stream",
     "text": [
      "Integer Conversion  6 <class 'int'>\n",
      "Float Conversion  6.0 <class 'float'>\n",
      "Boolean Conversion  True <class 'bool'>\n"
     ]
    }
   ],
   "source": [
    "#Ques.9 -> 9. Write a Python program to convert user input from string to integer, float, and boolean types.\n",
    "Data = input(\"Enter data\")\n",
    "Data=int(Data)\n",
    "print(\"Integer Conversion \",Data , type(Data))\n",
    "\n",
    "Data=float(Data)\n",
    "print(\"Float Conversion \", Data , type(Data))\n",
    "\n",
    "Data=bool(Data)\n",
    "print(\"Boolean Conversion \", Data , type(Data))\n"
   ]
  },
  {
   "cell_type": "code",
   "execution_count": 4,
   "metadata": {},
   "outputs": [
    {
     "name": "stdout",
     "output_type": "stream",
     "text": [
      "[1, 2, 3, 4, 5]\n"
     ]
    }
   ],
   "source": [
    "#Ques.10 -> Write code to demonstrate type casting with list elements.\n",
    "my_list = [1,2.0,3,4.8,5]\n",
    "my_list[1]=int(my_list[1])\n",
    "my_list[-2]=int(my_list[-2])\n",
    "print(my_list)"
   ]
  },
  {
   "cell_type": "code",
   "execution_count": 4,
   "metadata": {},
   "outputs": [
    {
     "name": "stdout",
     "output_type": "stream",
     "text": [
      "Negative Number\n"
     ]
    }
   ],
   "source": [
    "#Ques.11 -> Write a program that checks if a number is positive, negative, or zero.\n",
    "Num = int(input(\"Enter a Number..\"))\n",
    "if Num > 0:\n",
    "    print(\"Positive Number\")\n",
    "if Num < 0:\n",
    "    print(\"Negative Number\")\n",
    "if Num == 0:\n",
    "    print(\"Zero\")"
   ]
  },
  {
   "cell_type": "code",
   "execution_count": 1,
   "metadata": {},
   "outputs": [
    {
     "name": "stdout",
     "output_type": "stream",
     "text": [
      "1\n",
      "2\n",
      "3\n",
      "4\n",
      "5\n",
      "6\n",
      "7\n",
      "8\n",
      "9\n",
      "10\n"
     ]
    }
   ],
   "source": [
    "#Quess.12 -> Write a for loop to print numbers from 1 to 10.\n",
    "for i in range(1,11):\n",
    "    print(i)"
   ]
  },
  {
   "cell_type": "code",
   "execution_count": 4,
   "metadata": {},
   "outputs": [
    {
     "name": "stdout",
     "output_type": "stream",
     "text": [
      "2\n",
      "4\n",
      "6\n",
      "8\n",
      "10\n",
      "12\n",
      "14\n",
      "16\n",
      "18\n",
      "20\n",
      "22\n",
      "24\n",
      "26\n",
      "28\n",
      "30\n",
      "32\n",
      "34\n",
      "36\n",
      "38\n",
      "40\n",
      "42\n",
      "44\n",
      "46\n",
      "48\n"
     ]
    }
   ],
   "source": [
    "#Ques.13 -> Write a Python program to find the sum of all even numbers between 1 and 50.\n",
    "for i in range(1,50):\n",
    "    if i%2==0:\n",
    "        print(i)\n",
    "    "
   ]
  },
  {
   "cell_type": "code",
   "execution_count": 7,
   "metadata": {},
   "outputs": [
    {
     "name": "stdout",
     "output_type": "stream",
     "text": [
      "yppah"
     ]
    }
   ],
   "source": [
    "#Ques.14 -> Write a program to reverse a string using a while loop.\n",
    "word = \"happy\"\n",
    "i = len(word)-1\n",
    "while i>=0:\n",
    "    print(word[i],end=\"\")\n",
    "    i-=1"
   ]
  },
  {
   "cell_type": "code",
   "execution_count": null,
   "metadata": {},
   "outputs": [
    {
     "name": "stdout",
     "output_type": "stream",
     "text": [
      "120\n"
     ]
    }
   ],
   "source": [
    "#Ques.15 -> Write a Python program to calculate the factorial of a number provided by the user using a while loop.\n",
    "factorial=1\n",
    "n=1\n",
    "while True:\n",
    "    num=int(input(\"Enter number: \"))\n",
    "    if num<=0:\n",
    "        print(\"Thank you!\")\n",
    "        break\n",
    "    while n<num:\n",
    "        n+=1\n",
    "        factorial*=n\n",
    "    print(factorial)\n",
    "    factorial=1\n",
    "    n=1"
   ]
  }
 ],
 "metadata": {
  "kernelspec": {
   "display_name": "Python 3",
   "language": "python",
   "name": "python3"
  },
  "language_info": {
   "codemirror_mode": {
    "name": "ipython",
    "version": 3
   },
   "file_extension": ".py",
   "mimetype": "text/x-python",
   "name": "python",
   "nbconvert_exporter": "python",
   "pygments_lexer": "ipython3",
   "version": "3.13.1"
  }
 },
 "nbformat": 4,
 "nbformat_minor": 2
}
